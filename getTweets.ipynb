{
 "cells": [
  {
   "cell_type": "code",
   "execution_count": null,
   "source": [
    "# for Google Colab\n",
    "# !git clone --depth=1 https://github.com/twintproject/twint.git\n",
    "# !cd /content/twint && pip3 install . -r requirements.txt\n",
    "\n",
    "import twint #https://github.com/twintproject/twint/wiki/Configuration \n",
    "import pandas as pd\n",
    "import nest_asyncio\n",
    "nest_asyncio.apply() # prevents \"RuntimeError: This event loop is already running\""
   ],
   "outputs": [],
   "metadata": {}
  },
  {
   "cell_type": "markdown",
   "source": [
    "# Get tweets by text field"
   ],
   "metadata": {}
  },
  {
   "cell_type": "markdown",
   "source": [
    "Tony:\n",
    "// I am running into this really weird thing, that each time I run the script, it gives me a different length of tweet. It has never reached 500 yet. "
   ],
   "metadata": {}
  },
  {
   "cell_type": "code",
   "execution_count": null,
   "source": [
    "c = twint.Config()\n",
    "c.Search = 'meng wan zhou'       # topic\n",
    "c.Limit =500      # number of Tweets to scrape\n",
    "# c.Pandas = True\n",
    "c.Output = \"output/MengWZ.csv\"\n",
    "c.Store_csv = True\n",
    "# c.Since = \"2020-07-20\"\n",
    "c.Hide_output = True\n",
    "\n",
    "twint.run.Search(c)\n",
    "\n"
   ],
   "outputs": [],
   "metadata": {}
  },
  {
   "cell_type": "code",
   "execution_count": null,
   "source": [
    "# tweets_df = twint.storage.panda.Tweets_df # displaying data in dataframe\n",
    "# tweets_df.to_csv(\"./output/MengWZ.csv\") # saving dataframe to a csv file \n",
    "\n",
    "# tweets_df[[\"date\", \"tweet\"]]"
   ],
   "outputs": [],
   "metadata": {}
  },
  {
   "cell_type": "markdown",
   "source": [
    "# Get text by user"
   ],
   "metadata": {}
  },
  {
   "cell_type": "markdown",
   "source": [
    "Tony's work:"
   ],
   "metadata": {}
  },
  {
   "cell_type": "code",
   "execution_count": null,
   "source": [
    "c = twint.Config()\n",
    "c.Username = 'cbcnewsbc'       # topic\n",
    "c.Limit = 50      # number of Tweets to scrape\n",
    "c.Store_csv = True       # store tweets in a csv file\n",
    "c.Show_hashtags = True \n",
    "c.Output = \"./output/cbcnewsbc.csv\"     # path to csv file\n",
    "\n",
    "twint.run.Search(c)\n",
    "\n",
    "df = pd.read_csv('./output/cbcnewsbc.csv')\n",
    "df[[\"date\", \"tweet\"]]"
   ],
   "outputs": [],
   "metadata": {}
  },
  {
   "cell_type": "markdown",
   "source": [
    "# Get tweets associaciated with hashtags"
   ],
   "metadata": {}
  },
  {
   "cell_type": "markdown",
   "source": [
    "THIS TURNED OUT TO BE NOT SUPPORTED BY TWINT? "
   ],
   "metadata": {}
  },
  {
   "cell_type": "markdown",
   "source": [],
   "metadata": {}
  }
 ],
 "metadata": {
  "orig_nbformat": 4,
  "language_info": {
   "name": "python",
   "version": "3.9.7",
   "mimetype": "text/x-python",
   "codemirror_mode": {
    "name": "ipython",
    "version": 3
   },
   "pygments_lexer": "ipython3",
   "nbconvert_exporter": "python",
   "file_extension": ".py"
  },
  "kernelspec": {
   "name": "python3",
   "display_name": "Python 3.9.7 64-bit"
  },
  "interpreter": {
   "hash": "b0fa6594d8f4cbf19f97940f81e996739fb7646882a419484c72d19e05852a7e"
  }
 },
 "nbformat": 4,
 "nbformat_minor": 2
}