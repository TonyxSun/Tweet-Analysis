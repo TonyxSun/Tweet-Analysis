{
 "cells": [
  {
   "cell_type": "code",
   "execution_count": 98,
   "source": [
    "# for Google Colab\n",
    "# !git clone --depth=1 https://github.com/twintproject/twint.git\n",
    "# !cd /content/twint && pip3 install . -r requirements.txt\n",
    "\n",
    "import twint #https://github.com/twintproject/twint/wiki/Configuration \n",
    "import pandas as pd\n",
    "import nest_asyncio\n",
    "nest_asyncio.apply() # prevents \"RuntimeError: This event loop is already running\""
   ],
   "outputs": [],
   "metadata": {}
  },
  {
   "cell_type": "markdown",
   "source": [
    "# Get tweets by text field"
   ],
   "metadata": {}
  },
  {
   "cell_type": "markdown",
   "source": [
    "Tony:\n",
    "// I am running into this really weird thing, that each time I run the script, it gives me a different length of tweet. It has never reached 500 yet. "
   ],
   "metadata": {}
  },
  {
   "cell_type": "code",
   "execution_count": 99,
   "source": [
    "c = twint.Config()\n",
    "c.Search = 'meng wan zhou'       # topic\n",
    "c.Limit =500      # number of Tweets to scrape\n",
    "# c.Pandas = True\n",
    "c.Output = \"output/MengWZ.csv\"\n",
    "c.Store_csv = True\n",
    "# c.Since = \"2020-07-20\"\n",
    "c.Hide_output = True\n",
    "\n",
    "twint.run.Search(c)\n",
    "\n"
   ],
   "outputs": [
    {
     "output_type": "stream",
     "name": "stdout",
     "text": [
      "[!] No more data! Scraping will stop now.\n",
      "found 0 deleted tweets in this search.\n"
     ]
    }
   ],
   "metadata": {}
  },
  {
   "cell_type": "code",
   "execution_count": 100,
   "source": [
    "# tweets_df = twint.storage.panda.Tweets_df # displaying data in dataframe\n",
    "# tweets_df.to_csv(\"./output/MengWZ.csv\") # saving dataframe to a csv file \n",
    "\n",
    "# tweets_df[[\"date\", \"tweet\"]]"
   ],
   "outputs": [
    {
     "output_type": "error",
     "ename": "KeyError",
     "evalue": "\"None of [Index(['date', 'tweet'], dtype='object')] are in the [columns]\"",
     "traceback": [
      "\u001b[0;31m---------------------------------------------------------------------------\u001b[0m",
      "\u001b[0;31mKeyError\u001b[0m                                  Traceback (most recent call last)",
      "\u001b[0;32m/var/folders/wp/5bgsgd5s2199v82f538tht4w0000gn/T/ipykernel_84770/1957609626.py\u001b[0m in \u001b[0;36m<module>\u001b[0;34m\u001b[0m\n\u001b[1;32m      2\u001b[0m \u001b[0mtweets_df\u001b[0m\u001b[0;34m.\u001b[0m\u001b[0mto_csv\u001b[0m\u001b[0;34m(\u001b[0m\u001b[0;34m\"./output/MengWZ.csv\"\u001b[0m\u001b[0;34m)\u001b[0m \u001b[0;31m# saving dataframe to a csv file\u001b[0m\u001b[0;34m\u001b[0m\u001b[0;34m\u001b[0m\u001b[0m\n\u001b[1;32m      3\u001b[0m \u001b[0;34m\u001b[0m\u001b[0m\n\u001b[0;32m----> 4\u001b[0;31m \u001b[0mtweets_df\u001b[0m\u001b[0;34m[\u001b[0m\u001b[0;34m[\u001b[0m\u001b[0;34m\"date\"\u001b[0m\u001b[0;34m,\u001b[0m \u001b[0;34m\"tweet\"\u001b[0m\u001b[0;34m]\u001b[0m\u001b[0;34m]\u001b[0m\u001b[0;34m\u001b[0m\u001b[0;34m\u001b[0m\u001b[0m\n\u001b[0m",
      "\u001b[0;32m/opt/homebrew/lib/python3.9/site-packages/pandas/core/frame.py\u001b[0m in \u001b[0;36m__getitem__\u001b[0;34m(self, key)\u001b[0m\n\u001b[1;32m   3462\u001b[0m             \u001b[0;32mif\u001b[0m \u001b[0mis_iterator\u001b[0m\u001b[0;34m(\u001b[0m\u001b[0mkey\u001b[0m\u001b[0;34m)\u001b[0m\u001b[0;34m:\u001b[0m\u001b[0;34m\u001b[0m\u001b[0;34m\u001b[0m\u001b[0m\n\u001b[1;32m   3463\u001b[0m                 \u001b[0mkey\u001b[0m \u001b[0;34m=\u001b[0m \u001b[0mlist\u001b[0m\u001b[0;34m(\u001b[0m\u001b[0mkey\u001b[0m\u001b[0;34m)\u001b[0m\u001b[0;34m\u001b[0m\u001b[0;34m\u001b[0m\u001b[0m\n\u001b[0;32m-> 3464\u001b[0;31m             \u001b[0mindexer\u001b[0m \u001b[0;34m=\u001b[0m \u001b[0mself\u001b[0m\u001b[0;34m.\u001b[0m\u001b[0mloc\u001b[0m\u001b[0;34m.\u001b[0m\u001b[0m_get_listlike_indexer\u001b[0m\u001b[0;34m(\u001b[0m\u001b[0mkey\u001b[0m\u001b[0;34m,\u001b[0m \u001b[0maxis\u001b[0m\u001b[0;34m=\u001b[0m\u001b[0;36m1\u001b[0m\u001b[0;34m)\u001b[0m\u001b[0;34m[\u001b[0m\u001b[0;36m1\u001b[0m\u001b[0;34m]\u001b[0m\u001b[0;34m\u001b[0m\u001b[0;34m\u001b[0m\u001b[0m\n\u001b[0m\u001b[1;32m   3465\u001b[0m \u001b[0;34m\u001b[0m\u001b[0m\n\u001b[1;32m   3466\u001b[0m         \u001b[0;31m# take() does not accept boolean indexers\u001b[0m\u001b[0;34m\u001b[0m\u001b[0;34m\u001b[0m\u001b[0m\n",
      "\u001b[0;32m/opt/homebrew/lib/python3.9/site-packages/pandas/core/indexing.py\u001b[0m in \u001b[0;36m_get_listlike_indexer\u001b[0;34m(self, key, axis)\u001b[0m\n\u001b[1;32m   1312\u001b[0m             \u001b[0mkeyarr\u001b[0m\u001b[0;34m,\u001b[0m \u001b[0mindexer\u001b[0m\u001b[0;34m,\u001b[0m \u001b[0mnew_indexer\u001b[0m \u001b[0;34m=\u001b[0m \u001b[0max\u001b[0m\u001b[0;34m.\u001b[0m\u001b[0m_reindex_non_unique\u001b[0m\u001b[0;34m(\u001b[0m\u001b[0mkeyarr\u001b[0m\u001b[0;34m)\u001b[0m\u001b[0;34m\u001b[0m\u001b[0;34m\u001b[0m\u001b[0m\n\u001b[1;32m   1313\u001b[0m \u001b[0;34m\u001b[0m\u001b[0m\n\u001b[0;32m-> 1314\u001b[0;31m         \u001b[0mself\u001b[0m\u001b[0;34m.\u001b[0m\u001b[0m_validate_read_indexer\u001b[0m\u001b[0;34m(\u001b[0m\u001b[0mkeyarr\u001b[0m\u001b[0;34m,\u001b[0m \u001b[0mindexer\u001b[0m\u001b[0;34m,\u001b[0m \u001b[0maxis\u001b[0m\u001b[0;34m)\u001b[0m\u001b[0;34m\u001b[0m\u001b[0;34m\u001b[0m\u001b[0m\n\u001b[0m\u001b[1;32m   1315\u001b[0m \u001b[0;34m\u001b[0m\u001b[0m\n\u001b[1;32m   1316\u001b[0m         if needs_i8_conversion(ax.dtype) or isinstance(\n",
      "\u001b[0;32m/opt/homebrew/lib/python3.9/site-packages/pandas/core/indexing.py\u001b[0m in \u001b[0;36m_validate_read_indexer\u001b[0;34m(self, key, indexer, axis)\u001b[0m\n\u001b[1;32m   1372\u001b[0m                 \u001b[0;32mif\u001b[0m \u001b[0muse_interval_msg\u001b[0m\u001b[0;34m:\u001b[0m\u001b[0;34m\u001b[0m\u001b[0;34m\u001b[0m\u001b[0m\n\u001b[1;32m   1373\u001b[0m                     \u001b[0mkey\u001b[0m \u001b[0;34m=\u001b[0m \u001b[0mlist\u001b[0m\u001b[0;34m(\u001b[0m\u001b[0mkey\u001b[0m\u001b[0;34m)\u001b[0m\u001b[0;34m\u001b[0m\u001b[0;34m\u001b[0m\u001b[0m\n\u001b[0;32m-> 1374\u001b[0;31m                 \u001b[0;32mraise\u001b[0m \u001b[0mKeyError\u001b[0m\u001b[0;34m(\u001b[0m\u001b[0;34mf\"None of [{key}] are in the [{axis_name}]\"\u001b[0m\u001b[0;34m)\u001b[0m\u001b[0;34m\u001b[0m\u001b[0;34m\u001b[0m\u001b[0m\n\u001b[0m\u001b[1;32m   1375\u001b[0m \u001b[0;34m\u001b[0m\u001b[0m\n\u001b[1;32m   1376\u001b[0m             \u001b[0mnot_found\u001b[0m \u001b[0;34m=\u001b[0m \u001b[0mlist\u001b[0m\u001b[0;34m(\u001b[0m\u001b[0mensure_index\u001b[0m\u001b[0;34m(\u001b[0m\u001b[0mkey\u001b[0m\u001b[0;34m)\u001b[0m\u001b[0;34m[\u001b[0m\u001b[0mmissing_mask\u001b[0m\u001b[0;34m.\u001b[0m\u001b[0mnonzero\u001b[0m\u001b[0;34m(\u001b[0m\u001b[0;34m)\u001b[0m\u001b[0;34m[\u001b[0m\u001b[0;36m0\u001b[0m\u001b[0;34m]\u001b[0m\u001b[0;34m]\u001b[0m\u001b[0;34m.\u001b[0m\u001b[0munique\u001b[0m\u001b[0;34m(\u001b[0m\u001b[0;34m)\u001b[0m\u001b[0;34m)\u001b[0m\u001b[0;34m\u001b[0m\u001b[0;34m\u001b[0m\u001b[0m\n",
      "\u001b[0;31mKeyError\u001b[0m: \"None of [Index(['date', 'tweet'], dtype='object')] are in the [columns]\""
     ]
    }
   ],
   "metadata": {}
  },
  {
   "cell_type": "markdown",
   "source": [
    "# Get text by user"
   ],
   "metadata": {}
  },
  {
   "cell_type": "markdown",
   "source": [
    "Tony's work:"
   ],
   "metadata": {}
  },
  {
   "cell_type": "code",
   "execution_count": 101,
   "source": [
    "c = twint.Config()\n",
    "c.Username = 'cbcnewsbc'       # topic\n",
    "c.Limit = 50      # number of Tweets to scrape\n",
    "c.Store_csv = True       # store tweets in a csv file\n",
    "c.Show_hashtags = True \n",
    "c.Output = \"./output/cbcnewsbc.csv\"     # path to csv file\n",
    "\n",
    "twint.run.Search(c)\n",
    "\n",
    "df = pd.read_csv('./output/cbcnewsbc.csv')\n",
    "df[[\"date\", \"tweet\"]]"
   ],
   "outputs": [
    {
     "output_type": "stream",
     "name": "stdout",
     "text": [
      "1448348565810683909 2021-10-13 11:03:01 -0700 <cbcnewsbc> The RCMP says it has implemented about 22 recommendations made by the Civilian Review and Complaints Commission agency over the last fiscal year, but the status of dozens of more recommendations regarding Mountie misconduct is not known.  https://t.co/3grLPu0GvU \n",
      "1448338498717683715 2021-10-13 10:23:01 -0700 <cbcnewsbc> COVID-19 outbreak at Site C dam project declared over    https://t.co/2h99XDPgXY \n",
      "1448333462671405062 2021-10-13 10:03:00 -0700 <cbcnewsbc> A new proposal from City of Vancouver staff would redevelop Vancouver's False Creek South neighbourhood, more than tripling the number of housing units in the area.   https://t.co/7aZbFdxpee \n",
      "1448323396731813904 2021-10-13 09:23:00 -0700 <cbcnewsbc> RCMP says it implemented 22 watchdog recommendations – but status of dozens of complaints still unknown    https://t.co/WNH2YtfRNh \n",
      "1448318365290967050 2021-10-13 09:03:01 -0700 <cbcnewsbc> As more unvaccinated people speak up after getting COVID-19, will it help convince others to get the shot?   https://t.co/InYjIKcBFO \n",
      "1448303264240488450 2021-10-13 08:03:01 -0700 <cbcnewsbc> A bat-infested ceiling might make a perfect turn-key haunted house for Halloween enthusiasts, but for an unsuspecting B.C. couple, it provoked a strong case of buyer's remorse.    https://t.co/oYjDF4UMjZ \n",
      "1448298234686881795 2021-10-13 07:43:01 -0700 <cbcnewsbc> Some unvaccinated people are going public after getting COVID-19. Will it convince others to get the shot?    https://t.co/CD3ZWJr0HF \n",
      "1448288166125912067 2021-10-13 07:03:01 -0700 <cbcnewsbc> Families are left in limbo as B.C. Coroners Service deals with thousands of outstanding death investigations after unprecedented case loads during the pandemic  https://t.co/1u06YqXDPA \n",
      "1448278101260111876 2021-10-13 06:23:01 -0700 <cbcnewsbc> Bat droppings in the bedroom? That doesn't mean the animals are pests, judge rules    https://t.co/5NFBkVpqZn \n",
      "1448273065423560707 2021-10-13 06:03:01 -0700 <cbcnewsbc> There are many reasons the Crown might prefer a plea deal over a trial - avoiding public debate isn't typically one of them.  https://t.co/A0QBwXWinW \n",
      "1448263001098829828 2021-10-13 05:23:01 -0700 <cbcnewsbc> Long wait for loved ones as B.C. Coroners Service works through thousands of incomplete investigations    https://t.co/mbYoAGLazh \n",
      "1448257965631459330 2021-10-13 05:03:00 -0700 <cbcnewsbc> Crown wanted plea deal in Whistler bear feeding case to avoid 'controversy' over killings    https://t.co/lB0voftBgk \n",
      "1448162336720699402 2021-10-12 22:43:01 -0700 <cbcnewsbc> City of Vancouver plan would more than triple the number of homes in False Creek South    https://t.co/USZcFQhAIt \n",
      "1448157301920210946 2021-10-12 22:23:00 -0700 <cbcnewsbc> U.S. to reopen land border to fully vaccinated Canadians next month    https://t.co/z0jbz6ybzX \n",
      "1448152270521184260 2021-10-12 22:03:01 -0700 <cbcnewsbc> For Beat Heeb, playing the alphorn near B.C.'s Okanagan Lake has been a great pastime helping him to feel connected to his cultural roots.  https://t.co/fxeDnpEIzr \n",
      "1448147235817066505 2021-10-12 21:43:00 -0700 <cbcnewsbc> A new proposal from City of Vancouver staff would redevelop Vancouver's False Creek South neighbourhood, more than tripling the number of housing units in the area.   https://t.co/7aZbFdxpee \n",
      "1448142203604381696 2021-10-12 21:23:01 -0700 <cbcnewsbc> B.C. man's alphorn brings joy — and Swiss history — to the neighbourhood    https://t.co/vvJS7kUtxd \n",
      "1448137171882295306 2021-10-12 21:03:01 -0700 <cbcnewsbc> UBC researchers raise new questions about why southern resident orcas are in decline after concluding that chinook salmon stocks are not the only factor.  https://t.co/K8WxWt5Zfx \n",
      "1448132288147980301 2021-10-12 20:43:37 -0700 <cbcnewsbc> The United States is planning to reopen its land border to fully vaccinated Canadians next month after a long and unprecedented period of travel restrictions, according to a U.S. congressman.  https://t.co/La3QmEUeAw \n",
      "1448132135659835402 2021-10-12 20:43:00 -0700 <cbcnewsbc> A Victoria woman was arrested over the Thanksgiving weekend after threatening to stab B.C. Ferries staff members with a knife, following the attempted robbery of a passenger, according to police.  https://t.co/UEGKadMLKL \n",
      "1448127103954788352 2021-10-12 20:23:01 -0700 <cbcnewsbc> Provincial health officials say they had to contract two private planes to transport patients from northern B.C. to hospitals in other regions over the Thanksgiving weekend due to the high number of COVID-19 cases.  https://t.co/RC7GUT7p5G \n",
      "1448122071247200256 2021-10-12 20:03:01 -0700 <cbcnewsbc> Victoria woman arrested for allegedly threatening to stab B.C. Ferries staff after attempted robbery    https://t.co/yFNU2IleEd \n",
      "1448117036434038792 2021-10-12 19:43:00 -0700 <cbcnewsbc> Children aged five and older are now included in the public health order mandating masks for indoor public spaces in B.C.   https://t.co/M2VQtUr4Dr \n",
      "1448114545055076356 2021-10-12 19:33:06 -0700 <cbcnewsbc> This weekend marks three years since Canada legalized cannabis. Despite customer demand and heavy oversight, many retailers are still finding that stigma is holding their industry back. As @jphballard reports, some pot shops say their business isn't welcome at big banks.  https://t.co/b0mf4kiaMy \n",
      "1448109484258246665 2021-10-12 19:13:00 -0700 <cbcnewsbc> Staffing shortages in long-term care could get worse with the mandatory vaccine requirement. Starting Tuesday, unvaccinated workers will have to take a leave of absence without pay. And as @Baneet_Braich reports, some employees are choosing to leave their jobs.  https://t.co/asiwpK00lw \n",
      "1448106971790446592 2021-10-12 19:03:01 -0700 <cbcnewsbc> 'Additional measures' may be coming to slow COVID spread in northern B.C., says Henry    https://t.co/UqXtRARLPQ \n",
      "1448104450871087106 2021-10-12 18:53:00 -0700 <cbcnewsbc> B.C. health officials say over a dozen hospital patients from northern B.C. spent their Thanksgiving weekend being flown to other regions for care due to a lack of space in their region. As @IsabelleRaghem reports, new measures could be coming as a result.  https://t.co/AUeSe0idJJ \n",
      "1448101940865425413 2021-10-12 18:43:01 -0700 <cbcnewsbc> Canadians have not been allowed to cross the land border to the U.S. since March 2020 except for essential purposes. The emergency measure was extended last month and will remain in effect until at least Oct. 21.  https://t.co/3iww28O79R \n",
      "1448091874191945730 2021-10-12 18:03:01 -0700 <cbcnewsbc> Scammers convinced the victims to set up a wire transfer by telling them their money was not safe at their bank, police said.  https://t.co/9FDZvpKSly \n",
      "1448086839601115146 2021-10-12 17:43:01 -0700 <cbcnewsbc> Study raises new questions about why southern resident killer whales are in decline    https://t.co/QlcMBvsY72 \n",
      "1448081806176264197 2021-10-12 17:23:01 -0700 <cbcnewsbc> Ruth Hamilton was sound asleep in Golden, B.C., last week when she was awoken by the sound of a crash through her ceiling and the feeling of debris on her face. She flipped her pillow and found a meteorite had crashed onto her pillow.  https://t.co/oGVu3lpxEw \n",
      "1448071740563800064 2021-10-12 16:43:01 -0700 <cbcnewsbc> In an email Tuesday, officials said fence removal in Strathcona Park is expected to take a few days to complete, though the park will reopen to the public after a long occupation by the city's disenfranchised homeless population.  https://t.co/f1ldkBjPdy \n",
      "1448066708208603143 2021-10-12 16:23:01 -0700 <cbcnewsbc> 28 more deaths from COVID-19 in B.C. as 2,090 new cases confirmed over Thanksgiving weekend    https://t.co/MLjyEZDPoL \n",
      "1448061674171375618 2021-10-12 16:03:01 -0700 <cbcnewsbc> All long-term care and assisted-living employees in British Columbia now need to have at least one dose of a COVID-19 vaccine.  https://t.co/9cnhB8Ofo1 \n",
      "1448059963981680644 2021-10-12 15:56:13 -0700 <cbcnewsbc> NEW: British Columbia has announced 2,090 new cases of COVID-19 and 28 more deaths over the Thanksgiving weekend. A total of 357 people are in hospital, with 153 in intensive care.  https://t.co/o83Oc8LPP0 \n",
      "1448056641291788293 2021-10-12 15:43:01 -0700 <cbcnewsbc> Calls for U.S. to reopen land border to vaccinated Canadians grow louder    https://t.co/UEkL1zXcJ5 \n",
      "1448048268491984896 2021-10-12 15:09:45 -0700 <cbcnewsbc> Children aged five and older are now included in the public health order mandating masks for indoor public spaces in B.C., the province confirmed Tuesday. #covid19bc  https://t.co/gTZvZnUyrG covid19bc\n",
      "1448041541998624770 2021-10-12 14:43:01 -0700 <cbcnewsbc> Strathcona Park reopens to public as officials remove tent city barricades    https://t.co/7wr55ftG08 \n",
      "1448031473790038019 2021-10-12 14:03:01 -0700 <cbcnewsbc> COVID-19 vaccine mandate now in place for B.C. workers in long-term care, assisted living    https://t.co/UJf7JeQQFN \n",
      "1448026440855851011 2021-10-12 13:43:01 -0700 <cbcnewsbc> The northern lights put on a rare show for British Columbians on Monday, from Vancouver Island to Fort St. John to the Kootenays.  https://t.co/MO0FU7erby \n",
      "1448021408664150021 2021-10-12 13:23:01 -0700 <cbcnewsbc> Woman rocked awake by meteorite chunk crashing into her bedroom    https://t.co/iYeR3Ko4Ry \n",
      "1448016890438332423 2021-10-12 13:05:04 -0700 <cbcnewsbc> Q. What does the rest of the fall look like?   Henry: I think masking will need to be with us for a while longer. Even fully vaccinated populations are safer when wearing masks. \n",
      "1448016888647331841 2021-10-12 13:05:03 -0700 <cbcnewsbc> Q. Are we where we thought we would be in mid-Oct?  Henry: Some communities in the North and Fraser East, it's not going well. May not be as we hoped in August, to have the same approach province-wide. But we're on track in many parts of B.C. and it's where I hoped we would be. \n",
      "1448016374157225994 2021-10-12 13:03:01 -0700 <cbcnewsbc> With more than 60,000 daily passengers on average, public health experts are asking B.C. Ferries to do more when it comes to masking and ventilation aboard its vessels to stop potential coronavirus transmission.   https://t.co/kb4Z4nIOIO \n",
      "1448014527958822916 2021-10-12 12:55:40 -0700 <cbcnewsbc> Henry: We also see pockets where percentages are very low. Need to continue to be rational to help people understand and to make sure vaccines are available in communities so people can make the right choice. “It's going to get harder before it gets easier”. \n",
      "1448014526553722884 2021-10-12 12:55:40 -0700 <cbcnewsbc> Q. Told 70% vaccinated range would get us back to normal. How high does it need to be now?  Henry: Yes, higher than originally thought and that reflects changes in the virus. It spreads more rapidly now. We've also started to get back to some degree of normalcy to mitigate risk. \n",
      "1448012897498669058 2021-10-12 12:49:12 -0700 <cbcnewsbc> Q. Are 30 new dispatchers enough?  Dix: I believe so. It's a very significant increase. One of the most important steps is to ensure ambulances get in and out of emergency rooms quickly. We're hopeful that a return to more normalcy in primary care will also relieve pressure. \n",
      "1448012015251992580 2021-10-12 12:45:41 -0700 <cbcnewsbc> Q. People on hold for 911 because no dispatchers are available? Will new hires be enough?  Dix: We are in the process of hiring more paramedics. Some challenges in terms of resources in dispatch but we are adding management services at the dispatch level when volume is high. \n",
      "1448011343097958410 2021-10-12 12:43:01 -0700 <cbcnewsbc> Officials providing update on COVID-19 in B.C.    https://t.co/FCUAAFqTVA \n",
      "1448010982522081284 2021-10-12 12:41:35 -0700 <cbcnewsbc> Q. What consideration is being given to event capacity as vaccine passports are in effect?    Henry: Our intent was full capacity when vaccine card came into effect. We're now looking where it may not be possible, the North comes to mind. Expect a decision by the end of the week. \n",
      "1448009836323553284 2021-10-12 12:37:02 -0700 <cbcnewsbc> Q. Is B.C. prepared to immunize children? How will priority be established?   Henry: We are still in the organizing and planning phase of that. It won’t be age-based as often families have more than one child — 340,000 in the group B.C.-wide. \n",
      "1448008816117825550 2021-10-12 12:32:59 -0700 <cbcnewsbc> Minister Dix: Contingency plans are in place to ensure people still get care they need if staff shortages are met. LTC and assisted care workers who refuse to be vaccinated are in breach of provincial order and “subject to progressive discipline up to and including dismissal”. \n",
      "1448006569057259527 2021-10-12 12:24:03 -0700 <cbcnewsbc> Minister Dix: We are going to do what it takes for the people in critical care right now, but for those people who are walking around unvaccinated, who may be in those beds in a couple of weeks, \"now is the time to get vaccinated\". \n",
      "1448006309912190980 2021-10-12 12:23:01 -0700 <cbcnewsbc> Draco the cat went missing during a hike in Jasper National Park in August. After 49 days in the wilderness, Draco was found and is back home in Edmonton.   https://t.co/FZvGnAftf2 \n",
      "1448006169080090626 2021-10-12 12:22:28 -0700 <cbcnewsbc> Health Minister Adrian Dix: The situation in the North is extremely serious at the moment. We have moved 55 critical care patients from Northern Health to Vancouver Island and Lower Mainland and 43 COVID-19 positive individuals, out of which 42 are not fully vaccinated. \n",
      "1448005523324997637 2021-10-12 12:19:54 -0700 <cbcnewsbc> Dr. Henry: Families are encouraged to register their children through the provincial Get Vaccinated portal for the vaccine. We will aim to have all logistics in place to provide vaccinations as soon as possible when it is approved. \n",
      "1448005521613770755 2021-10-12 12:19:53 -0700 <cbcnewsbc> Dr. Henry: We are readying our province to provide children between ages 5 to 11 with vaccines when Health Canada approves it. We may have vials available for this age group by early November. \n",
      "1448005519176835074 2021-10-12 12:19:53 -0700 <cbcnewsbc> Dr. Henry: “I continue to be amazed by the adaptability and resilience of children across this province”. \n",
      "1448005516949655563 2021-10-12 12:19:52 -0700 <cbcnewsbc> Dr. Henry: I recognize our public health mandates change and they will do so as pandemic aspects change. I am adjusting the public mask mandate to include all children ages 5 and up as is similar now in schools. \n",
      "1448004399561945089 2021-10-12 12:15:26 -0700 <cbcnewsbc> Dr. Henry: Long-term care workers and assisted living staff must be vaccinated as of today and all health care workers must be vaccinated by the end of Oct. It is very broad for the very reason that we know that these are settings where transmission impacts the most vulnerable. \n"
     ]
    },
    {
     "output_type": "error",
     "ename": "KeyError",
     "evalue": "\"None of [Index(['date', 'tweet'], dtype='object')] are in the [columns]\"",
     "traceback": [
      "\u001b[0;31m---------------------------------------------------------------------------\u001b[0m",
      "\u001b[0;31mKeyError\u001b[0m                                  Traceback (most recent call last)",
      "\u001b[0;32m/var/folders/wp/5bgsgd5s2199v82f538tht4w0000gn/T/ipykernel_84770/12282133.py\u001b[0m in \u001b[0;36m<module>\u001b[0;34m\u001b[0m\n\u001b[1;32m      9\u001b[0m \u001b[0;34m\u001b[0m\u001b[0m\n\u001b[1;32m     10\u001b[0m \u001b[0mdf\u001b[0m \u001b[0;34m=\u001b[0m \u001b[0mpd\u001b[0m\u001b[0;34m.\u001b[0m\u001b[0mread_csv\u001b[0m\u001b[0;34m(\u001b[0m\u001b[0;34m'./output/cbcnewsbc.csv'\u001b[0m\u001b[0;34m)\u001b[0m\u001b[0;34m\u001b[0m\u001b[0;34m\u001b[0m\u001b[0m\n\u001b[0;32m---> 11\u001b[0;31m \u001b[0mdf\u001b[0m\u001b[0;34m[\u001b[0m\u001b[0;34m[\u001b[0m\u001b[0;34m\"date\"\u001b[0m\u001b[0;34m,\u001b[0m \u001b[0;34m\"tweet\"\u001b[0m\u001b[0;34m]\u001b[0m\u001b[0;34m]\u001b[0m\u001b[0;34m\u001b[0m\u001b[0;34m\u001b[0m\u001b[0m\n\u001b[0m",
      "\u001b[0;32m/opt/homebrew/lib/python3.9/site-packages/pandas/core/frame.py\u001b[0m in \u001b[0;36m__getitem__\u001b[0;34m(self, key)\u001b[0m\n\u001b[1;32m   3462\u001b[0m             \u001b[0;32mif\u001b[0m \u001b[0mis_iterator\u001b[0m\u001b[0;34m(\u001b[0m\u001b[0mkey\u001b[0m\u001b[0;34m)\u001b[0m\u001b[0;34m:\u001b[0m\u001b[0;34m\u001b[0m\u001b[0;34m\u001b[0m\u001b[0m\n\u001b[1;32m   3463\u001b[0m                 \u001b[0mkey\u001b[0m \u001b[0;34m=\u001b[0m \u001b[0mlist\u001b[0m\u001b[0;34m(\u001b[0m\u001b[0mkey\u001b[0m\u001b[0;34m)\u001b[0m\u001b[0;34m\u001b[0m\u001b[0;34m\u001b[0m\u001b[0m\n\u001b[0;32m-> 3464\u001b[0;31m             \u001b[0mindexer\u001b[0m \u001b[0;34m=\u001b[0m \u001b[0mself\u001b[0m\u001b[0;34m.\u001b[0m\u001b[0mloc\u001b[0m\u001b[0;34m.\u001b[0m\u001b[0m_get_listlike_indexer\u001b[0m\u001b[0;34m(\u001b[0m\u001b[0mkey\u001b[0m\u001b[0;34m,\u001b[0m \u001b[0maxis\u001b[0m\u001b[0;34m=\u001b[0m\u001b[0;36m1\u001b[0m\u001b[0;34m)\u001b[0m\u001b[0;34m[\u001b[0m\u001b[0;36m1\u001b[0m\u001b[0;34m]\u001b[0m\u001b[0;34m\u001b[0m\u001b[0;34m\u001b[0m\u001b[0m\n\u001b[0m\u001b[1;32m   3465\u001b[0m \u001b[0;34m\u001b[0m\u001b[0m\n\u001b[1;32m   3466\u001b[0m         \u001b[0;31m# take() does not accept boolean indexers\u001b[0m\u001b[0;34m\u001b[0m\u001b[0;34m\u001b[0m\u001b[0m\n",
      "\u001b[0;32m/opt/homebrew/lib/python3.9/site-packages/pandas/core/indexing.py\u001b[0m in \u001b[0;36m_get_listlike_indexer\u001b[0;34m(self, key, axis)\u001b[0m\n\u001b[1;32m   1312\u001b[0m             \u001b[0mkeyarr\u001b[0m\u001b[0;34m,\u001b[0m \u001b[0mindexer\u001b[0m\u001b[0;34m,\u001b[0m \u001b[0mnew_indexer\u001b[0m \u001b[0;34m=\u001b[0m \u001b[0max\u001b[0m\u001b[0;34m.\u001b[0m\u001b[0m_reindex_non_unique\u001b[0m\u001b[0;34m(\u001b[0m\u001b[0mkeyarr\u001b[0m\u001b[0;34m)\u001b[0m\u001b[0;34m\u001b[0m\u001b[0;34m\u001b[0m\u001b[0m\n\u001b[1;32m   1313\u001b[0m \u001b[0;34m\u001b[0m\u001b[0m\n\u001b[0;32m-> 1314\u001b[0;31m         \u001b[0mself\u001b[0m\u001b[0;34m.\u001b[0m\u001b[0m_validate_read_indexer\u001b[0m\u001b[0;34m(\u001b[0m\u001b[0mkeyarr\u001b[0m\u001b[0;34m,\u001b[0m \u001b[0mindexer\u001b[0m\u001b[0;34m,\u001b[0m \u001b[0maxis\u001b[0m\u001b[0;34m)\u001b[0m\u001b[0;34m\u001b[0m\u001b[0;34m\u001b[0m\u001b[0m\n\u001b[0m\u001b[1;32m   1315\u001b[0m \u001b[0;34m\u001b[0m\u001b[0m\n\u001b[1;32m   1316\u001b[0m         if needs_i8_conversion(ax.dtype) or isinstance(\n",
      "\u001b[0;32m/opt/homebrew/lib/python3.9/site-packages/pandas/core/indexing.py\u001b[0m in \u001b[0;36m_validate_read_indexer\u001b[0;34m(self, key, indexer, axis)\u001b[0m\n\u001b[1;32m   1372\u001b[0m                 \u001b[0;32mif\u001b[0m \u001b[0muse_interval_msg\u001b[0m\u001b[0;34m:\u001b[0m\u001b[0;34m\u001b[0m\u001b[0;34m\u001b[0m\u001b[0m\n\u001b[1;32m   1373\u001b[0m                     \u001b[0mkey\u001b[0m \u001b[0;34m=\u001b[0m \u001b[0mlist\u001b[0m\u001b[0;34m(\u001b[0m\u001b[0mkey\u001b[0m\u001b[0;34m)\u001b[0m\u001b[0;34m\u001b[0m\u001b[0;34m\u001b[0m\u001b[0m\n\u001b[0;32m-> 1374\u001b[0;31m                 \u001b[0;32mraise\u001b[0m \u001b[0mKeyError\u001b[0m\u001b[0;34m(\u001b[0m\u001b[0;34mf\"None of [{key}] are in the [{axis_name}]\"\u001b[0m\u001b[0;34m)\u001b[0m\u001b[0;34m\u001b[0m\u001b[0;34m\u001b[0m\u001b[0m\n\u001b[0m\u001b[1;32m   1375\u001b[0m \u001b[0;34m\u001b[0m\u001b[0m\n\u001b[1;32m   1376\u001b[0m             \u001b[0mnot_found\u001b[0m \u001b[0;34m=\u001b[0m \u001b[0mlist\u001b[0m\u001b[0;34m(\u001b[0m\u001b[0mensure_index\u001b[0m\u001b[0;34m(\u001b[0m\u001b[0mkey\u001b[0m\u001b[0;34m)\u001b[0m\u001b[0;34m[\u001b[0m\u001b[0mmissing_mask\u001b[0m\u001b[0;34m.\u001b[0m\u001b[0mnonzero\u001b[0m\u001b[0;34m(\u001b[0m\u001b[0;34m)\u001b[0m\u001b[0;34m[\u001b[0m\u001b[0;36m0\u001b[0m\u001b[0;34m]\u001b[0m\u001b[0;34m]\u001b[0m\u001b[0;34m.\u001b[0m\u001b[0munique\u001b[0m\u001b[0;34m(\u001b[0m\u001b[0;34m)\u001b[0m\u001b[0;34m)\u001b[0m\u001b[0;34m\u001b[0m\u001b[0;34m\u001b[0m\u001b[0m\n",
      "\u001b[0;31mKeyError\u001b[0m: \"None of [Index(['date', 'tweet'], dtype='object')] are in the [columns]\""
     ]
    }
   ],
   "metadata": {}
  },
  {
   "cell_type": "markdown",
   "source": [
    "# Get tweets associaciated with hashtags"
   ],
   "metadata": {}
  },
  {
   "cell_type": "markdown",
   "source": [
    "THIS TURNED OUT TO BE NOT SUPPORTED BY TWINT? "
   ],
   "metadata": {}
  },
  {
   "cell_type": "markdown",
   "source": [],
   "metadata": {}
  },
  {
   "cell_type": "code",
   "execution_count": null,
   "source": [
    "#test \n",
    "# Configure\n",
    "c = twint.Config()\n",
    "c.Search = \"meng wan zhou\"\n",
    "\n",
    "c.Limit = 300\n",
    "\n",
    "\n",
    "# Run\n",
    "twint.run.Search(c)"
   ],
   "outputs": [],
   "metadata": {}
  }
 ],
 "metadata": {
  "orig_nbformat": 4,
  "language_info": {
   "name": "python",
   "version": "3.9.7",
   "mimetype": "text/x-python",
   "codemirror_mode": {
    "name": "ipython",
    "version": 3
   },
   "pygments_lexer": "ipython3",
   "nbconvert_exporter": "python",
   "file_extension": ".py"
  },
  "kernelspec": {
   "name": "python3",
   "display_name": "Python 3.9.7 64-bit"
  },
  "interpreter": {
   "hash": "b0fa6594d8f4cbf19f97940f81e996739fb7646882a419484c72d19e05852a7e"
  }
 },
 "nbformat": 4,
 "nbformat_minor": 2
}