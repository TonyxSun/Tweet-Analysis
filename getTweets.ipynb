{
 "cells": [
  {
   "cell_type": "code",
   "execution_count": null,
   "metadata": {},
   "outputs": [],
   "source": [
    "# for Google Colab\n",
    "# !git clone --depth=1 https://github.com/twintproject/twint.git\n",
    "# !cd /content/twint && pip3 install . -r requirements.txt\n",
    "\n",
    "import twint #https://github.com/twintproject/twint/wiki/Configuration \n",
    "import pandas as pd\n",
    "import nest_asyncio\n",
    "nest_asyncio.apply() # prevents \"RuntimeError: This event loop is already running\""
   ]
  },
  {
   "cell_type": "markdown",
   "metadata": {},
   "source": [
    "# Get tweets by text field"
   ]
  },
  {
   "cell_type": "markdown",
   "metadata": {},
   "source": [
    "Tony:\n",
    "// I am running into this really weird thing, that each time I run the script, it gives me a different length of tweet. It has never reached 500 yet. "
   ]
  },
  {
   "cell_type": "code",
   "execution_count": null,
   "metadata": {},
   "outputs": [],
   "source": [
    "c = twint.Config()\n",
    "c.Search = 'meng wan zhou'       # topic\n",
    "c.Limit =500      # number of Tweets to scrape\n",
    "# c.Pandas = True\n",
    "c.Output = \"output/MengWZ.csv\"\n",
    "c.Store_csv = True\n",
    "# c.Since = \"2020-07-20\"\n",
    "c.Hide_output = True\n",
    "\n",
    "twint.run.Search(c)\n",
    "\n"
   ]
  },
  {
   "cell_type": "code",
   "execution_count": null,
   "metadata": {},
   "outputs": [],
   "source": [
    "# tweets_df = twint.storage.panda.Tweets_df # displaying data in dataframe\n",
    "# tweets_df.to_csv(\"./output/MengWZ.csv\") # saving dataframe to a csv file \n",
    "\n",
    "# tweets_df[[\"date\", \"tweet\"]]"
   ]
  },
  {
   "cell_type": "markdown",
   "metadata": {},
   "source": [
    "# Get text by user"
   ]
  },
  {
   "cell_type": "markdown",
   "metadata": {},
   "source": [
    "Tony's work:"
   ]
  },
  {
   "cell_type": "code",
   "execution_count": null,
   "metadata": {},
   "outputs": [],
   "source": [
    "c = twint.Config()\n",
    "c.Username = 'cbcnewsbc'       # topic\n",
    "c.Limit = 50      # number of Tweets to scrape\n",
    "c.Store_csv = True       # store tweets in a csv file\n",
    "c.Show_hashtags = True \n",
    "c.Output = \"./output/cbcnewsbc.csv\"     # path to csv file\n",
    "\n",
    "twint.run.Search(c)\n",
    "\n",
    "df = pd.read_csv('./output/cbcnewsbc.csv')\n",
    "df[[\"date\", \"tweet\"]]"
   ]
  },
  {
   "cell_type": "markdown",
   "metadata": {},
   "source": [
    "# Get tweets associaciated with hashtags"
   ]
  },
  {
   "cell_type": "markdown",
   "metadata": {},
   "source": [
    "THIS TURNED OUT TO BE NOT SUPPORTED BY TWINT? "
   ]
  },
  {
   "cell_type": "markdown",
   "metadata": {},
   "source": []
  }
 ],
 "metadata": {
  "interpreter": {
   "hash": "31f2aee4e71d21fbe5cf8b01ff0e069b9275f58929596ceb00d14d90e3e16cd6"
  },
  "kernelspec": {
   "display_name": "Python 3.8.9 64-bit",
   "name": "python3"
  },
  "language_info": {
   "codemirror_mode": {
    "name": "ipython",
    "version": 3
   },
   "file_extension": ".py",
   "mimetype": "text/x-python",
   "name": "python",
   "nbconvert_exporter": "python",
   "pygments_lexer": "ipython3",
   "version": "3.8.9"
  },
  "orig_nbformat": 4
 },
 "nbformat": 4,
 "nbformat_minor": 2
}
